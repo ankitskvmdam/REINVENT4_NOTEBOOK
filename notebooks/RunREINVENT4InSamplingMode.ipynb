{
 "cells": [
  {
   "cell_type": "markdown",
   "id": "bc71b685",
   "metadata": {},
   "source": [
    "# Running REINVENT 4 in Sampling Mode\n",
    "\n",
    "\n",
    "_Please update the following code block._"
   ]
  },
  {
   "cell_type": "code",
   "execution_count": 1,
   "id": "6b79814d",
   "metadata": {},
   "outputs": [],
   "source": [
    "import os\n",
    "import re\n",
    "import json\n",
    "\n",
    "# This is relative to the root directory of this repository\n",
    "outdir = \"out/sampling\"\n",
    "\n",
    "# get the notebook's root path\n",
    "try: ipynb_path\n",
    "except NameError: ipynb_path = os.getcwd()\n",
    "\n",
    "root = os.path.abspath(os.path.join(ipynb_path, '..'))\n",
    "outpath = os.path.join(root, outdir)\n",
    "\n",
    "os.makedirs(outpath, exist_ok=True)"
   ]
  },
  {
   "cell_type": "code",
   "execution_count": 2,
   "id": "f123b2be",
   "metadata": {},
   "outputs": [
    {
     "data": {
      "text/plain": [
       "['libinvent.prior',\n",
       " 'linkinvent.prior',\n",
       " 'mol2mol_high_similarity.prior',\n",
       " 'mol2mol_medium_similarity.prior',\n",
       " 'mol2mol_mmp.prior',\n",
       " 'mol2mol_scaffold.prior',\n",
       " 'mol2mol_scaffold_generic.prior',\n",
       " 'mol2mol_similarity.prior',\n",
       " 'reinvent.prior']"
      ]
     },
     "execution_count": 2,
     "metadata": {},
     "output_type": "execute_result"
    }
   ],
   "source": [
    "# All models we have\n",
    "\n",
    "os.listdir(os.path.join(root, 'priors'))"
   ]
  },
  {
   "cell_type": "markdown",
   "id": "7752f525",
   "metadata": {},
   "source": [
    "_Currently there are 9 models provided by REINVENT4_"
   ]
  },
  {
   "cell_type": "code",
   "execution_count": 3,
   "id": "33eadc9c",
   "metadata": {},
   "outputs": [],
   "source": [
    "# Config will be written in out dir.\n",
    "config = {\n",
    "    \"run_type\": \"sampling\",\n",
    "    \"parameters\": {\n",
    "        \"model_file\": os.path.join(root, \"priors/reinvent.prior\"),\n",
    "        \"unique_molecules\": True,\n",
    "        \"randomize_smiles\": True\n",
    "    }\n",
    "}\n",
    "\n",
    "\n",
    "\n",
    "def dump_config_and_return_path(use_cuda=True, num_smiles=157):\n",
    "    prefix = \"cuda\" if use_cuda else \"cpu\"\n",
    "    \n",
    "    config[\"use_cuda\"] = use_cuda\n",
    "    config[\"parameters\"][\"num_smiles\"] = num_smiles\n",
    "    config[\"parameters\"][\"output_file\"] = os.path.join(outpath, f\"{prefix}_sampling_{num_smiles}.csv\")\n",
    "    \n",
    "    dump_path = os.path.join(outpath, f\"{prefix}_generate_{num_smiles}_sampling_config.json\")\n",
    "    \n",
    "    \n",
    "    with open(dump_path, 'w') as f:\n",
    "        json.dump(config, f, indent=4)\n",
    "        \n",
    "    return dump_path"
   ]
  },
  {
   "cell_type": "code",
   "execution_count": 4,
   "id": "a2a9291c",
   "metadata": {},
   "outputs": [
    {
     "name": "stdout",
     "output_type": "stream",
     "text": [
      "00:56:45 <INFO> Started REINVENT 4.0.35 (C) AstraZeneca 2017, 2023 on 2024-02-19\n",
      "00:56:45 <INFO> Command line: /root/miniconda3/envs/re/bin/reinvent /mnt/d/projects/github/REINVENT4_NOTEBOOKS/out/sampling/cuda_generate_100_sampling_config.json -f json\n",
      "00:56:45 <INFO> Environment loaded from dotenv file\n",
      "00:56:45 <INFO> User root on host Ank\n",
      "00:56:45 <INFO> Python version 3.10.13\n",
      "00:56:45 <INFO> PyTorch version 1.12.1+cu113, git 664058fa83f1d8eede5d66418abff6e20bd76ca8\n",
      "00:56:45 <INFO> PyTorch compiled with CUDA version 11.3\n",
      "00:56:45 <INFO> RDKit version 2022.09.5\n",
      "00:56:45 <INFO> Platform Linux-5.15.133.1-microsoft-standard-WSL2-x86_64-with-glibc2.35\n",
      "00:56:47 <INFO> Number of PyTorch CUDA devices 1\n",
      "00:56:47 <INFO> Using CUDA device:0 NVIDIA GeForce RTX 3060 Laptop GPU\n",
      "00:56:47 <INFO> GPU memory: 5136 MiB free, 6143 MiB total\n",
      "00:56:47 <INFO> Starting Sampling\n",
      "Running sampler /mnt/d/projects/github/REINVENT4_NOTEBOOKS/priors/reinvent.prior device cuda\n",
      "00:56:51 <INFO> Using generator Reinvent\n",
      "00:56:51 <INFO> Writing sampled SMILES to CSV file /mnt/d/projects/github/REINVENT4_NOTEBOOKS/out/sampling/cuda_sampling_100.csv\n",
      "00:56:51 <INFO> Sampling 100 SMILES from model /mnt/d/projects/github/REINVENT4_NOTEBOOKS/priors/reinvent.prior\n",
      "00:56:52 <INFO> Time taken in seconds: 0\n",
      "00:56:52 <INFO> Peak main memory usage: 3159.145 MiB\n",
      "00:56:52 <INFO> Finished REINVENT on 2024-02-19\n"
     ]
    }
   ],
   "source": [
    "# execute REINVENT using GPU and generate 100 molecules\n",
    "\n",
    "config_path = dump_config_and_return_path(True, 100)\n",
    "!reinvent {config_path} -f json"
   ]
  },
  {
   "cell_type": "code",
   "execution_count": 20,
   "id": "98765bda",
   "metadata": {},
   "outputs": [
    {
     "name": "stdout",
     "output_type": "stream",
     "text": [
      "00:01:59 <INFO> Started REINVENT 4.0.35 (C) AstraZeneca 2017, 2023 on 2024-02-05\n",
      "00:01:59 <INFO> Command line: /root/miniconda3/envs/re/bin/reinvent /mnt/d/projects/github/REINVENT4_NOTEBOOKS/out/sampling/cuda_generate_1000_sampling_config.json -f json\n",
      "00:01:59 <INFO> Environment loaded from dotenv file\n",
      "00:01:59 <INFO> User root on host Ank\n",
      "00:01:59 <INFO> Python version 3.10.13\n",
      "00:01:59 <INFO> PyTorch version 1.12.1+cu113, git 664058fa83f1d8eede5d66418abff6e20bd76ca8\n",
      "00:01:59 <INFO> PyTorch compiled with CUDA version 11.3\n",
      "00:01:59 <INFO> RDKit version 2022.09.5\n",
      "00:01:59 <INFO> Platform Linux-5.15.133.1-microsoft-standard-WSL2-x86_64-with-glibc2.35\n",
      "00:02:00 <INFO> Number of PyTorch CUDA devices 1\n",
      "00:02:00 <INFO> Using CUDA device:0 NVIDIA GeForce RTX 3060 Laptop GPU\n",
      "00:02:00 <INFO> GPU memory: 5136 MiB free, 6143 MiB total\n",
      "00:02:00 <INFO> Starting Sampling\n",
      "00:02:03 <INFO> Using generator Reinvent\n",
      "00:02:03 <INFO> Writing sampled SMILES to CSV file /mnt/d/projects/github/REINVENT4_NOTEBOOKS/out/sampling/cuda_sampling_1000.csv\n",
      "00:02:03 <INFO> Sampling 1000 SMILES from model /mnt/d/projects/github/REINVENT4_NOTEBOOKS/priors/reinvent.prior\n",
      "00:02:05 <INFO> Time taken in seconds: 1\n",
      "00:02:05 <INFO> Peak main memory usage: 3192.078 MiB\n",
      "00:02:05 <INFO> Finished REINVENT on 2024-02-05\n"
     ]
    }
   ],
   "source": [
    "# execute REINVENT using GPU and generate 1000 molecules\n",
    "\n",
    "config_path = dump_config_and_return_path(True, 1000)\n",
    "!reinvent {config_path} -f json"
   ]
  },
  {
   "cell_type": "code",
   "execution_count": 21,
   "id": "70acc916",
   "metadata": {},
   "outputs": [
    {
     "name": "stdout",
     "output_type": "stream",
     "text": [
      "00:02:10 <INFO> Started REINVENT 4.0.35 (C) AstraZeneca 2017, 2023 on 2024-02-05\n",
      "00:02:10 <INFO> Command line: /root/miniconda3/envs/re/bin/reinvent /mnt/d/projects/github/REINVENT4_NOTEBOOKS/out/sampling/cuda_generate_10000_sampling_config.json -f json\n",
      "00:02:10 <INFO> Environment loaded from dotenv file\n",
      "00:02:10 <INFO> User root on host Ank\n",
      "00:02:10 <INFO> Python version 3.10.13\n",
      "00:02:10 <INFO> PyTorch version 1.12.1+cu113, git 664058fa83f1d8eede5d66418abff6e20bd76ca8\n",
      "00:02:10 <INFO> PyTorch compiled with CUDA version 11.3\n",
      "00:02:10 <INFO> RDKit version 2022.09.5\n",
      "00:02:10 <INFO> Platform Linux-5.15.133.1-microsoft-standard-WSL2-x86_64-with-glibc2.35\n",
      "00:02:10 <INFO> Number of PyTorch CUDA devices 1\n",
      "00:02:10 <INFO> Using CUDA device:0 NVIDIA GeForce RTX 3060 Laptop GPU\n",
      "00:02:10 <INFO> GPU memory: 5136 MiB free, 6143 MiB total\n",
      "00:02:10 <INFO> Starting Sampling\n",
      "00:02:13 <INFO> Using generator Reinvent\n",
      "00:02:13 <INFO> Writing sampled SMILES to CSV file /mnt/d/projects/github/REINVENT4_NOTEBOOKS/out/sampling/cuda_sampling_10000.csv\n",
      "00:02:13 <INFO> Sampling 10000 SMILES from model /mnt/d/projects/github/REINVENT4_NOTEBOOKS/priors/reinvent.prior\n",
      "00:02:28 <INFO> Time taken in seconds: 14\n",
      "00:02:29 <INFO> Peak main memory usage: 3329.945 MiB\n",
      "00:02:29 <INFO> Finished REINVENT on 2024-02-05\n"
     ]
    }
   ],
   "source": [
    "# execute REINVENT using GPU and generate 10,000 molecules\n",
    "\n",
    "config_path = dump_config_and_return_path(True, 10000)\n",
    "!reinvent {config_path} -f json"
   ]
  },
  {
   "cell_type": "code",
   "execution_count": 22,
   "id": "1afc077b",
   "metadata": {},
   "outputs": [
    {
     "name": "stdout",
     "output_type": "stream",
     "text": [
      "00:02:34 <INFO> Started REINVENT 4.0.35 (C) AstraZeneca 2017, 2023 on 2024-02-05\n",
      "00:02:34 <INFO> Command line: /root/miniconda3/envs/re/bin/reinvent /mnt/d/projects/github/REINVENT4_NOTEBOOKS/out/sampling/cuda_generate_100000_sampling_config.json -f json\n",
      "00:02:34 <INFO> Environment loaded from dotenv file\n",
      "00:02:34 <INFO> User root on host Ank\n",
      "00:02:34 <INFO> Python version 3.10.13\n",
      "00:02:34 <INFO> PyTorch version 1.12.1+cu113, git 664058fa83f1d8eede5d66418abff6e20bd76ca8\n",
      "00:02:34 <INFO> PyTorch compiled with CUDA version 11.3\n",
      "00:02:34 <INFO> RDKit version 2022.09.5\n",
      "00:02:34 <INFO> Platform Linux-5.15.133.1-microsoft-standard-WSL2-x86_64-with-glibc2.35\n",
      "00:02:34 <INFO> Number of PyTorch CUDA devices 1\n",
      "00:02:34 <INFO> Using CUDA device:0 NVIDIA GeForce RTX 3060 Laptop GPU\n",
      "00:02:35 <INFO> GPU memory: 5136 MiB free, 6143 MiB total\n",
      "00:02:35 <INFO> Starting Sampling\n",
      "00:02:38 <INFO> Using generator Reinvent\n",
      "00:02:38 <INFO> Writing sampled SMILES to CSV file /mnt/d/projects/github/REINVENT4_NOTEBOOKS/out/sampling/cuda_sampling_100000.csv\n",
      "00:02:38 <INFO> Sampling 100000 SMILES from model /mnt/d/projects/github/REINVENT4_NOTEBOOKS/priors/reinvent.prior\n",
      "00:05:13 <INFO> Time taken in seconds: 155\n",
      "00:05:32 <INFO> Peak main memory usage: 4679.848 MiB\n",
      "00:05:32 <INFO> Finished REINVENT on 2024-02-05\n"
     ]
    }
   ],
   "source": [
    "# execute REINVENT using GPU and generate 1,00,000 molecules\n",
    "\n",
    "config_path = dump_config_and_return_path(True, 100000)\n",
    "!reinvent {config_path} -f json"
   ]
  },
  {
   "cell_type": "code",
   "execution_count": 23,
   "id": "39c55ebf",
   "metadata": {},
   "outputs": [
    {
     "name": "stdout",
     "output_type": "stream",
     "text": [
      "00:05:37 <INFO> Started REINVENT 4.0.35 (C) AstraZeneca 2017, 2023 on 2024-02-05\n",
      "00:05:37 <INFO> Command line: /root/miniconda3/envs/re/bin/reinvent /mnt/d/projects/github/REINVENT4_NOTEBOOKS/out/sampling/cpu_generate_100_sampling_config.json -f json\n",
      "00:05:37 <INFO> Environment loaded from dotenv file\n",
      "00:05:37 <INFO> User root on host Ank\n",
      "00:05:37 <INFO> Python version 3.10.13\n",
      "00:05:37 <INFO> PyTorch version 1.12.1+cu113, git 664058fa83f1d8eede5d66418abff6e20bd76ca8\n",
      "00:05:37 <INFO> PyTorch compiled with CUDA version 11.3\n",
      "00:05:37 <INFO> RDKit version 2022.09.5\n",
      "00:05:37 <INFO> Platform Linux-5.15.133.1-microsoft-standard-WSL2-x86_64-with-glibc2.35\n",
      "00:05:38 <INFO> Number of PyTorch CUDA devices 1\n",
      "00:05:38 <INFO> Using CPU x86_64\n",
      "00:05:38 <INFO> Starting Sampling\n",
      "00:05:38 <INFO> Using generator Reinvent\n",
      "00:05:38 <INFO> Writing sampled SMILES to CSV file /mnt/d/projects/github/REINVENT4_NOTEBOOKS/out/sampling/cpu_sampling_100.csv\n",
      "00:05:38 <INFO> Sampling 100 SMILES from model /mnt/d/projects/github/REINVENT4_NOTEBOOKS/priors/reinvent.prior\n",
      "00:05:39 <INFO> Time taken in seconds: 1\n",
      "00:05:39 <INFO> Peak main memory usage: 454.988 MiB\n",
      "00:05:39 <INFO> Finished REINVENT on 2024-02-05\n"
     ]
    }
   ],
   "source": [
    "# execute REINVENT using CPU and generate 100 molecules\n",
    "\n",
    "config_path = dump_config_and_return_path(False, 100)\n",
    "!reinvent {config_path} -f json"
   ]
  },
  {
   "cell_type": "code",
   "execution_count": 24,
   "id": "7ba9a707",
   "metadata": {},
   "outputs": [
    {
     "name": "stdout",
     "output_type": "stream",
     "text": [
      "00:05:44 <INFO> Started REINVENT 4.0.35 (C) AstraZeneca 2017, 2023 on 2024-02-05\n",
      "00:05:44 <INFO> Command line: /root/miniconda3/envs/re/bin/reinvent /mnt/d/projects/github/REINVENT4_NOTEBOOKS/out/sampling/cpu_generate_1000_sampling_config.json -f json\n",
      "00:05:44 <INFO> Environment loaded from dotenv file\n",
      "00:05:44 <INFO> User root on host Ank\n",
      "00:05:44 <INFO> Python version 3.10.13\n",
      "00:05:44 <INFO> PyTorch version 1.12.1+cu113, git 664058fa83f1d8eede5d66418abff6e20bd76ca8\n",
      "00:05:44 <INFO> PyTorch compiled with CUDA version 11.3\n",
      "00:05:44 <INFO> RDKit version 2022.09.5\n",
      "00:05:44 <INFO> Platform Linux-5.15.133.1-microsoft-standard-WSL2-x86_64-with-glibc2.35\n",
      "00:05:44 <INFO> Number of PyTorch CUDA devices 1\n",
      "00:05:44 <INFO> Using CPU x86_64\n",
      "00:05:44 <INFO> Starting Sampling\n",
      "00:05:44 <INFO> Using generator Reinvent\n",
      "00:05:44 <INFO> Writing sampled SMILES to CSV file /mnt/d/projects/github/REINVENT4_NOTEBOOKS/out/sampling/cpu_sampling_1000.csv\n",
      "00:05:44 <INFO> Sampling 1000 SMILES from model /mnt/d/projects/github/REINVENT4_NOTEBOOKS/priors/reinvent.prior\n",
      "00:05:58 <INFO> Time taken in seconds: 13\n",
      "00:05:58 <INFO> Peak main memory usage: 461.480 MiB\n",
      "00:05:58 <INFO> Finished REINVENT on 2024-02-05\n"
     ]
    }
   ],
   "source": [
    "# execute REINVENT using CPU and generate 1000 molecules\n",
    "\n",
    "config_path = dump_config_and_return_path(False, 1000)\n",
    "!reinvent {config_path} -f json"
   ]
  },
  {
   "cell_type": "code",
   "execution_count": 25,
   "id": "0ad5482a",
   "metadata": {},
   "outputs": [
    {
     "name": "stdout",
     "output_type": "stream",
     "text": [
      "00:06:03 <INFO> Started REINVENT 4.0.35 (C) AstraZeneca 2017, 2023 on 2024-02-05\n",
      "00:06:03 <INFO> Command line: /root/miniconda3/envs/re/bin/reinvent /mnt/d/projects/github/REINVENT4_NOTEBOOKS/out/sampling/cpu_generate_10000_sampling_config.json -f json\n",
      "00:06:03 <INFO> Environment loaded from dotenv file\n",
      "00:06:03 <INFO> User root on host Ank\n",
      "00:06:03 <INFO> Python version 3.10.13\n",
      "00:06:03 <INFO> PyTorch version 1.12.1+cu113, git 664058fa83f1d8eede5d66418abff6e20bd76ca8\n",
      "00:06:03 <INFO> PyTorch compiled with CUDA version 11.3\n",
      "00:06:03 <INFO> RDKit version 2022.09.5\n",
      "00:06:03 <INFO> Platform Linux-5.15.133.1-microsoft-standard-WSL2-x86_64-with-glibc2.35\n",
      "00:06:03 <INFO> Number of PyTorch CUDA devices 1\n",
      "00:06:03 <INFO> Using CPU x86_64\n",
      "00:06:03 <INFO> Starting Sampling\n",
      "00:06:03 <INFO> Using generator Reinvent\n",
      "00:06:03 <INFO> Writing sampled SMILES to CSV file /mnt/d/projects/github/REINVENT4_NOTEBOOKS/out/sampling/cpu_sampling_10000.csv\n",
      "00:06:03 <INFO> Sampling 10000 SMILES from model /mnt/d/projects/github/REINVENT4_NOTEBOOKS/priors/reinvent.prior\n",
      "00:08:18 <INFO> Time taken in seconds: 134\n",
      "00:08:19 <INFO> Peak main memory usage: 598.387 MiB\n",
      "00:08:19 <INFO> Finished REINVENT on 2024-02-05\n"
     ]
    }
   ],
   "source": [
    "# execute REINVENT using CPU and generate 10,000 molecules\n",
    "\n",
    "config_path = dump_config_and_return_path(False, 10000)\n",
    "!reinvent {config_path} -f json"
   ]
  },
  {
   "cell_type": "code",
   "execution_count": 26,
   "id": "d716543b",
   "metadata": {},
   "outputs": [
    {
     "name": "stdout",
     "output_type": "stream",
     "text": [
      "00:08:24 <INFO> Started REINVENT 4.0.35 (C) AstraZeneca 2017, 2023 on 2024-02-05\n",
      "00:08:24 <INFO> Command line: /root/miniconda3/envs/re/bin/reinvent /mnt/d/projects/github/REINVENT4_NOTEBOOKS/out/sampling/cpu_generate_100000_sampling_config.json -f json\n",
      "00:08:24 <INFO> Environment loaded from dotenv file\n",
      "00:08:24 <INFO> User root on host Ank\n",
      "00:08:24 <INFO> Python version 3.10.13\n",
      "00:08:24 <INFO> PyTorch version 1.12.1+cu113, git 664058fa83f1d8eede5d66418abff6e20bd76ca8\n",
      "00:08:24 <INFO> PyTorch compiled with CUDA version 11.3\n",
      "00:08:24 <INFO> RDKit version 2022.09.5\n",
      "00:08:24 <INFO> Platform Linux-5.15.133.1-microsoft-standard-WSL2-x86_64-with-glibc2.35\n",
      "00:08:24 <INFO> Number of PyTorch CUDA devices 1\n",
      "00:08:24 <INFO> Using CPU x86_64\n",
      "00:08:24 <INFO> Starting Sampling\n",
      "00:08:24 <INFO> Using generator Reinvent\n",
      "00:08:24 <INFO> Writing sampled SMILES to CSV file /mnt/d/projects/github/REINVENT4_NOTEBOOKS/out/sampling/cpu_sampling_100000.csv\n",
      "00:08:24 <INFO> Sampling 100000 SMILES from model /mnt/d/projects/github/REINVENT4_NOTEBOOKS/priors/reinvent.prior\n",
      "00:30:06 <INFO> Time taken in seconds: 1301\n",
      "00:30:23 <INFO> Peak main memory usage: 1953.855 MiB\n",
      "00:30:23 <INFO> Finished REINVENT on 2024-02-05\n"
     ]
    }
   ],
   "source": [
    "# execute REINVENT using CPU and generate 1,00,000 molecules\n",
    "\n",
    "config_path = dump_config_and_return_path(False, 100000)\n",
    "!reinvent {config_path} -f json"
   ]
  },
  {
   "cell_type": "code",
   "execution_count": 5,
   "id": "1c63b248",
   "metadata": {},
   "outputs": [
    {
     "name": "stdout",
     "output_type": "stream",
     "text": [
      "00:57:38 <INFO> Started REINVENT 4.0.35 (C) AstraZeneca 2017, 2023 on 2024-02-19\n",
      "00:57:38 <INFO> Command line: /root/miniconda3/envs/re/bin/reinvent /mnt/d/projects/github/REINVENT4_NOTEBOOKS/out/sampling/cuda_generate_100_sampling_similar_config.json -f json\n",
      "00:57:38 <INFO> Environment loaded from dotenv file\n",
      "00:57:38 <INFO> User root on host Ank\n",
      "00:57:38 <INFO> Python version 3.10.13\n",
      "00:57:38 <INFO> PyTorch version 1.12.1+cu113, git 664058fa83f1d8eede5d66418abff6e20bd76ca8\n",
      "00:57:38 <INFO> PyTorch compiled with CUDA version 11.3\n",
      "00:57:38 <INFO> RDKit version 2022.09.5\n",
      "00:57:38 <INFO> Platform Linux-5.15.133.1-microsoft-standard-WSL2-x86_64-with-glibc2.35\n",
      "00:57:39 <INFO> Number of PyTorch CUDA devices 1\n",
      "00:57:39 <INFO> Using CUDA device:0 NVIDIA GeForce RTX 3060 Laptop GPU\n",
      "00:57:40 <INFO> GPU memory: 5136 MiB free, 6143 MiB total\n",
      "00:57:40 <INFO> Starting Sampling\n",
      "--- Logging error ---\n",
      "Traceback (most recent call last):\n",
      "  File \"/root/miniconda3/envs/re/lib/python3.10/logging/__init__.py\", line 1100, in emit\n",
      "    msg = self.format(record)\n",
      "  File \"/root/miniconda3/envs/re/lib/python3.10/logging/__init__.py\", line 943, in format\n",
      "    return fmt.format(record)\n",
      "  File \"/root/miniconda3/envs/re/lib/python3.10/logging/__init__.py\", line 678, in format\n",
      "    record.message = record.getMessage()\n",
      "  File \"/root/miniconda3/envs/re/lib/python3.10/logging/__init__.py\", line 368, in getMessage\n",
      "    msg = msg % self.args\n",
      "TypeError: not all arguments converted during string formatting\n",
      "Call stack:\n",
      "  File \"/root/miniconda3/envs/re/bin/reinvent\", line 8, in <module>\n",
      "    sys.exit(main())\n",
      "  File \"/mnt/d/projects/github/REINVENT4/reinvent/Reinvent.py\", line 292, in main\n",
      "    runner(input_config, actual_device, tb_logdir, responder_config)\n",
      "  File \"/mnt/d/projects/github/REINVENT4/reinvent/runmodes/samplers/run_sampling.py\", line 52, in run_sampling\n",
      "    logger.info('Running sampler', agent_model_filename, \"device\", device)\n",
      "Message: 'Running sampler'\n",
      "Arguments: ('/mnt/d/projects/github/REINVENT4_NOTEBOOKS/priors/mol2mol_medium_similarity.prior', 'device', device(type='cuda'))\n",
      "00:57:42 <INFO> Using generator Mol2Mol\n",
      "00:57:42 <INFO> Writing sampled SMILES to CSV file /mnt/d/projects/github/REINVENT4_NOTEBOOKS/out/sampling/cuda_sampling_similar_100.csv\n",
      "00:57:42 <WARN> randomize_smiles set to false for Mol2Mol\n",
      "00:57:42 <INFO> Sampling 200 SMILES from model /mnt/d/projects/github/REINVENT4_NOTEBOOKS/priors/mol2mol_medium_similarity.prior\n",
      "00:57:48 <INFO> Time taken in seconds: 5\n",
      "00:57:50 <INFO> Peak main memory usage: 3344.707 MiB\n",
      "00:57:50 <INFO> Finished REINVENT on 2024-02-19\n"
     ]
    }
   ],
   "source": [
    "# Find 200 molecules similar to the provided molecules using GPU\n",
    "\n",
    "mol_2_mol_config = config.copy()\n",
    "\n",
    "mol_2_mol_config['use_cuda'] = True\n",
    "mol_2_mol_config['parameters']['model_file'] = os.path.join(root, 'priors', 'mol2mol_medium_similarity.prior')\n",
    "mol_2_mol_config['parameters']['smiles_file'] = os.path.join(root, 'configs', 'toml', 'mol2mol.smi')\n",
    "mol_2_mol_config['parameters']['sample_strategy'] = \"beamsearch\"\n",
    "mol_2_mol_config['parameters']['temperature'] = 1.0 \n",
    "mol_2_mol_config['parameters']['tb_logdir'] = \"tb_logs\"\n",
    "\n",
    "prefix = \"cuda\"\n",
    "num_smiles = 100\n",
    "mol_2_mol_config[\"parameters\"][\"num_smiles\"] = num_smiles\n",
    "mol_2_mol_config[\"parameters\"][\"output_file\"] = os.path.join(outpath, f\"{prefix}_sampling_similar_{num_smiles}.csv\")\n",
    "\n",
    "dump_path = os.path.join(outpath, f\"{prefix}_generate_{num_smiles}_sampling_similar_config.json\")\n",
    "\n",
    "\n",
    "with open(dump_path, 'w') as f:\n",
    "    json.dump(mol_2_mol_config, f, indent=4)\n",
    "    \n",
    "\n",
    "!reinvent {dump_path} -f json"
   ]
  },
  {
   "cell_type": "code",
   "execution_count": 44,
   "id": "8b83b33d",
   "metadata": {},
   "outputs": [
    {
     "name": "stdout",
     "output_type": "stream",
     "text": [
      "20:37:56 <INFO> Started REINVENT 4.0.35 (C) AstraZeneca 2017, 2023 on 2024-02-05\n",
      "20:37:56 <INFO> Command line: /root/miniconda3/envs/re/bin/reinvent /mnt/d/projects/github/REINVENT4_NOTEBOOKS/out/sampling/cpu_generate_1000_sampling_similar_config.json -f json\n",
      "20:37:56 <INFO> Environment loaded from dotenv file\n",
      "20:37:56 <INFO> User root on host Ank\n",
      "20:37:56 <INFO> Python version 3.10.13\n",
      "20:37:56 <INFO> PyTorch version 1.12.1+cu113, git 664058fa83f1d8eede5d66418abff6e20bd76ca8\n",
      "20:37:56 <INFO> PyTorch compiled with CUDA version 11.3\n",
      "20:37:56 <INFO> RDKit version 2022.09.5\n",
      "20:37:56 <INFO> Platform Linux-5.15.133.1-microsoft-standard-WSL2-x86_64-with-glibc2.35\n",
      "20:37:56 <INFO> Number of PyTorch CUDA devices 1\n",
      "20:37:56 <INFO> Using CUDA device:0 NVIDIA GeForce RTX 3060 Laptop GPU\n",
      "20:37:57 <INFO> GPU memory: 5136 MiB free, 6143 MiB total\n",
      "20:37:57 <INFO> Starting Sampling\n",
      "20:37:59 <INFO> Using generator Mol2Mol\n",
      "20:37:59 <INFO> Writing sampled SMILES to CSV file /mnt/d/projects/github/REINVENT4_NOTEBOOKS/out/sampling/cpu_sampling_similar_1000.csv\n",
      "20:37:59 <WARN> randomize_smiles set to false for Mol2Mol\n",
      "20:37:59 <INFO> Sampling 2000 SMILES from model /mnt/d/projects/github/REINVENT4_NOTEBOOKS/priors/mol2mol_medium_similarity.prior\n",
      "20:37:59 <WARN> Sampling with beam search may be very slow\n",
      "20:38:33 <INFO> Time taken in seconds: 34\n",
      "20:38:37 <INFO> Peak main memory usage: 3418.230 MiB\n",
      "20:38:37 <INFO> Finished REINVENT on 2024-02-05\n"
     ]
    }
   ],
   "source": [
    "# Find 2000 molecules similar to the provided molecules using GPU\n",
    "\n",
    "mol_2_mol_config['use_cuda'] = True\n",
    "num_smiles = 1000\n",
    "mol_2_mol_config[\"parameters\"][\"num_smiles\"] = num_smiles\n",
    "mol_2_mol_config[\"parameters\"][\"output_file\"] = os.path.join(outpath, f\"{prefix}_sampling_similar_{num_smiles}.csv\")\n",
    "\n",
    "dump_path = os.path.join(outpath, f\"{prefix}_generate_{num_smiles}_sampling_similar_config.json\")\n",
    "\n",
    "\n",
    "with open(dump_path, 'w') as f:\n",
    "    json.dump(mol_2_mol_config, f, indent=4)\n",
    "    \n",
    "\n",
    "!reinvent {dump_path} -f json"
   ]
  },
  {
   "cell_type": "code",
   "execution_count": 38,
   "id": "88d32f13",
   "metadata": {},
   "outputs": [
    {
     "name": "stdout",
     "output_type": "stream",
     "text": [
      "00:56:41 <INFO> Started REINVENT 4.0.35 (C) AstraZeneca 2017, 2023 on 2024-02-05\n",
      "00:56:41 <INFO> Command line: /root/miniconda3/envs/re/bin/reinvent /mnt/d/projects/github/REINVENT4_NOTEBOOKS/out/sampling/cpu_generate_100_sampling_similar_config.json -f json\n",
      "00:56:41 <INFO> Environment loaded from dotenv file\n",
      "00:56:41 <INFO> User root on host Ank\n",
      "00:56:41 <INFO> Python version 3.10.13\n",
      "00:56:41 <INFO> PyTorch version 1.12.1+cu113, git 664058fa83f1d8eede5d66418abff6e20bd76ca8\n",
      "00:56:41 <INFO> PyTorch compiled with CUDA version 11.3\n",
      "00:56:41 <INFO> RDKit version 2022.09.5\n",
      "00:56:41 <INFO> Platform Linux-5.15.133.1-microsoft-standard-WSL2-x86_64-with-glibc2.35\n",
      "00:56:41 <INFO> Number of PyTorch CUDA devices 1\n",
      "00:56:41 <INFO> Using CPU x86_64\n",
      "00:56:41 <INFO> Starting Sampling\n",
      "00:56:41 <INFO> Using generator Mol2Mol\n",
      "00:56:41 <INFO> Writing sampled SMILES to CSV file /mnt/d/projects/github/REINVENT4_NOTEBOOKS/out/sampling/cpu_sampling_similar_100.csv\n",
      "00:56:41 <WARN> randomize_smiles set to false for Mol2Mol\n",
      "00:56:41 <INFO> Sampling 200 SMILES from model /mnt/d/projects/github/REINVENT4_NOTEBOOKS/priors/mol2mol_medium_similarity.prior\n",
      "00:58:18 <INFO> Time taken in seconds: 96\n",
      "00:58:21 <INFO> Peak main memory usage: 1356.203 MiB\n",
      "00:58:21 <INFO> Finished REINVENT on 2024-02-05\n"
     ]
    }
   ],
   "source": [
    "# Find 200 molecules similar to the provided molecules using CPU\n",
    "\n",
    "mol_2_mol_config['use_cuda'] = False\n",
    "num_smiles = 100\n",
    "\n",
    "prefix = \"cpu\"\n",
    "mol_2_mol_config[\"parameters\"][\"output_file\"] = os.path.join(outpath, f\"{prefix}_sampling_similar_{num_smiles}.csv\")\n",
    "\n",
    "dump_path = os.path.join(outpath, f\"{prefix}_generate_{num_smiles}_sampling_similar_config.json\")\n",
    "\n",
    "\n",
    "with open(dump_path, 'w') as f:\n",
    "    json.dump(mol_2_mol_config, f, indent=4)\n",
    "    \n",
    "\n",
    "!reinvent {dump_path} -f json"
   ]
  },
  {
   "cell_type": "code",
   "execution_count": 42,
   "id": "168f7820",
   "metadata": {},
   "outputs": [
    {
     "name": "stdout",
     "output_type": "stream",
     "text": [
      "19:56:47 <INFO> Started REINVENT 4.0.35 (C) AstraZeneca 2017, 2023 on 2024-02-05\n",
      "19:56:47 <INFO> Command line: /root/miniconda3/envs/re/bin/reinvent /mnt/d/projects/github/REINVENT4_NOTEBOOKS/out/sampling/cpu_generate_1000_sampling_similar_config.json -f json\n",
      "19:56:47 <INFO> Environment loaded from dotenv file\n",
      "19:56:47 <INFO> User root on host Ank\n",
      "19:56:47 <INFO> Python version 3.10.13\n",
      "19:56:47 <INFO> PyTorch version 1.12.1+cu113, git 664058fa83f1d8eede5d66418abff6e20bd76ca8\n",
      "19:56:47 <INFO> PyTorch compiled with CUDA version 11.3\n",
      "19:56:47 <INFO> RDKit version 2022.09.5\n",
      "19:56:47 <INFO> Platform Linux-5.15.133.1-microsoft-standard-WSL2-x86_64-with-glibc2.35\n",
      "19:56:47 <INFO> Number of PyTorch CUDA devices 1\n",
      "19:56:47 <INFO> Using CPU x86_64\n",
      "19:56:47 <INFO> Starting Sampling\n",
      "19:56:48 <INFO> Using generator Mol2Mol\n",
      "19:56:48 <INFO> Writing sampled SMILES to CSV file /mnt/d/projects/github/REINVENT4_NOTEBOOKS/out/sampling/cpu_sampling_similar_1000.csv\n",
      "19:56:48 <WARN> randomize_smiles set to false for Mol2Mol\n",
      "19:56:48 <INFO> Sampling 2000 SMILES from model /mnt/d/projects/github/REINVENT4_NOTEBOOKS/priors/mol2mol_medium_similarity.prior\n",
      "19:56:48 <WARN> Sampling with beam search may be very slow\n",
      "20:15:23 <INFO> Time taken in seconds: 1115\n",
      "20:15:27 <INFO> Peak main memory usage: 1392.312 MiB\n",
      "20:15:27 <INFO> Finished REINVENT on 2024-02-05\n"
     ]
    }
   ],
   "source": [
    "# Find 2000 molecules similar to the provided molecules using CPU\n",
    "\n",
    "mol_2_mol_config['use_cuda'] = False\n",
    "num_smiles = 1000\n",
    "prefix = \"cpu\"\n",
    "mol_2_mol_config[\"parameters\"][\"output_file\"] = os.path.join(outpath, f\"{prefix}_sampling_similar_{num_smiles}.csv\")\n",
    "\n",
    "dump_path = os.path.join(outpath, f\"{prefix}_generate_{num_smiles}_sampling_similar_config.json\")\n",
    "\n",
    "\n",
    "with open(dump_path, 'w') as f:\n",
    "    json.dump(mol_2_mol_config, f, indent=4)\n",
    "    \n",
    "\n",
    "!reinvent {dump_path} -f json"
   ]
  },
  {
   "cell_type": "markdown",
   "id": "4a185f41",
   "metadata": {},
   "source": [
    "### Report\n",
    "\n",
    "I used REINVENT4 to sampling new moelcules on my local machine. I used two models provided by REINVENT4, they are `reinvnet.prior` to generate new molecules and `mol2mol_medium_similarity.prior` (sample strategy=\"beamsearch\") to generate molecules similar to one.\n",
    "\n",
    "\n",
    "#### Hardware Specification\n",
    "\n",
    "1. Operating System: WSL (Window Subsystem for Linux) Ubuntu 22.04 (Kernal: 5.15.133.1-microsoft-standard-WSL2)\n",
    "1. GPU: RTX 3060, 3584 Cores, 6GB GDDR6\n",
    "1. CPU: AMD Ryzen 9 5900HX (8 Cores, 16 Threads) Base Clock frequence 3.3GHz\n",
    "1. RAM: 40GB (3200MHz)\n",
    "\n",
    "#### Findings\n",
    "\n",
    "_`reinvent.prior` on GPU_\n",
    "\n",
    "\n",
    "|Number of moelcules generated|Peak Main Memory Usuage|Time|\n",
    "|-|-|-|\n",
    "|100|3.2GB|<1s|\n",
    "|1,000|3.2GB|1s|\n",
    "|10,000|3.3GB|14s|\n",
    "|1,00,000|4.7GB|2min35sec|\n",
    "\n",
    "\n",
    "_`reinvent.prior` on CPU_\n",
    "\n",
    "\n",
    "|Number of moelcules generated|Peak Main Memory Usuage|Time|\n",
    "|-|-|-|\n",
    "|100|0.5GB|1s|\n",
    "|1,000|0.5GB|13s|\n",
    "|10,000|0.6GB|2min14s|\n",
    "|1,00,000|2GB|21min41s|\n",
    "\n",
    "\n",
    "_`mol2mol_medium_similarity.prior` on GPU_\n",
    "\n",
    "\n",
    "|Number of moelcules generated|Peak Main Memory Usuage|Time|\n",
    "|-|-|-|\n",
    "|200|3.4GB|4s|\n",
    "|2000|3.4GB|34s|\n",
    "\n",
    "\n",
    "_`mol2mol_medium_similarity.prior` on CPU_\n",
    "\n",
    "\n",
    "|Number of moelcules generated|Peak Main Memory Usuage|Time|\n",
    "|-|-|-|\n",
    "|200|1.4GB|1min36s|\n",
    "|2000|1.4GB|18min35s|\n",
    "\n",
    "\n",
    "#### Misc\n",
    "\n",
    "REINVENT4 is capable of concurrent execution across multiple CPU threads.\n",
    "\n"
   ]
  },
  {
   "cell_type": "code",
   "execution_count": null,
   "id": "21a30bb8",
   "metadata": {},
   "outputs": [],
   "source": []
  }
 ],
 "metadata": {
  "kernelspec": {
   "display_name": "Python 3 (ipykernel)",
   "language": "python",
   "name": "python3"
  },
  "language_info": {
   "codemirror_mode": {
    "name": "ipython",
    "version": 3
   },
   "file_extension": ".py",
   "mimetype": "text/x-python",
   "name": "python",
   "nbconvert_exporter": "python",
   "pygments_lexer": "ipython3",
   "version": "3.10.13"
  }
 },
 "nbformat": 4,
 "nbformat_minor": 5
}
