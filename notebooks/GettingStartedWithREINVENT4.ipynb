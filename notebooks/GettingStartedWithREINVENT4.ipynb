{
 "cells": [
  {
   "cell_type": "markdown",
   "id": "b558c2a4",
   "metadata": {},
   "source": [
    "### Setup\n",
    "\n",
    "To setup REINVENT locally, follow the following steps.\n",
    "\n",
    ">Note: On Windows use WSL2. Follow the instructions here: https://learn.microsoft.com/en-us/windows/wsl/install#upgrade-version-from-wsl-1-to-wsl-2 to install WSL2 on Windows.\n",
    "\n",
    "##### Step 1\n",
    "\n",
    "Clone the repository to your local machine.\n",
    "\n",
    "```bash\n",
    "git clone https://github.com/MolecularAI/REINVENT4\n",
    "```\n",
    "\n",
    "Now, change your direcotry to `REINVENT4`\n",
    "\n",
    "##### Step 2\n",
    "\n",
    "Create a conda enviroment.\n",
    "\n",
    "```bash\n",
    "conda create -n reinvent4 python=3.10\n",
    "```\n",
    "\n",
    "Now activate the enviroment\n",
    "\n",
    "```bash\n",
    "conda activate reinvent4\n",
    "```\n",
    "\n",
    "##### Step 3\n",
    "\n",
    "Install reinvent 4 dependencies\n",
    "\n",
    "```bash\n",
    "pip install -r requirements-linux-64.lock\n",
    "```\n",
    "\n",
    "Install reinvent 4 tool\n",
    "\n",
    "```bash\n",
    "pip install --no-deps .\n",
    "```\n",
    "\n",
    "Try running the following command, if it runs without error then you have successfully installed reinvent 4 on your local machine.\n",
    "\n",
    "```bash\n",
    "reinvent --help\n",
    "```\n",
    "\n"
   ]
  },
  {
   "cell_type": "code",
   "execution_count": null,
   "id": "d428b0db",
   "metadata": {},
   "outputs": [],
   "source": []
  }
 ],
 "metadata": {
  "kernelspec": {
   "display_name": "Python 3 (ipykernel)",
   "language": "python",
   "name": "python3"
  },
  "language_info": {
   "codemirror_mode": {
    "name": "ipython",
    "version": 3
   },
   "file_extension": ".py",
   "mimetype": "text/x-python",
   "name": "python",
   "nbconvert_exporter": "python",
   "pygments_lexer": "ipython3",
   "version": "3.10.14"
  }
 },
 "nbformat": 4,
 "nbformat_minor": 5
}
