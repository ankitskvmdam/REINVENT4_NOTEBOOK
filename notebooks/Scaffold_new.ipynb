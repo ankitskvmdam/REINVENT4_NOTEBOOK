{
 "cells": [
  {
   "cell_type": "code",
   "execution_count": 27,
   "id": "32642777-35f6-40ed-a315-8f30a87f23f8",
   "metadata": {},
   "outputs": [],
   "source": [
    "import rdkit\n",
    "import random\n",
    "import time\n",
    "from rdkit import Chem\n",
    "from rdkit.Chem import AllChem, Draw\n",
    "from random import randint\n",
    "import matplotlib.pyplot as plt\n",
    "from rdkit.Chem.Scaffolds import MurckoScaffold\n",
    "import math\n",
    "from itertools import combinations\n",
    "import json"
   ]
  },
  {
   "cell_type": "code",
   "execution_count": 2,
   "id": "6cb2f05c-5841-468e-ae82-ebb08ffd3cd4",
   "metadata": {},
   "outputs": [],
   "source": [
    "def get_mol(smiles):\n",
    "    return Chem.MolFromSmiles(smiles)"
   ]
  },
  {
   "cell_type": "code",
   "execution_count": 3,
   "id": "9365d309-06cd-402e-86a3-24d8748bf015",
   "metadata": {},
   "outputs": [],
   "source": [
    "def get_smiles(mol):\n",
    "    return Chem.MolToSmiles(mol)"
   ]
  },
  {
   "cell_type": "code",
   "execution_count": 4,
   "id": "1b794bab-2d04-416f-8c1f-2770541f1a0b",
   "metadata": {},
   "outputs": [],
   "source": [
    "def draw_mol(mol):\n",
    "    return Draw.MolToImage(mol)"
   ]
  },
  {
   "cell_type": "code",
   "execution_count": 5,
   "id": "44b96b9e-3812-4b82-b210-396c8efab792",
   "metadata": {},
   "outputs": [],
   "source": [
    "def draw_smiles(smi):\n",
    "    return draw_mol(get_mol(smi))"
   ]
  },
  {
   "cell_type": "code",
   "execution_count": 6,
   "id": "4df965b5-286c-4ef5-92c4-8a35747b5f00",
   "metadata": {},
   "outputs": [],
   "source": [
    "def get_scaffold(mol):\n",
    "    return MurckoScaffold.GetScaffoldForMol(mol)"
   ]
  },
  {
   "cell_type": "code",
   "execution_count": 7,
   "id": "645bb9e1-a23b-4b9e-afc0-2ea5a735f1b6",
   "metadata": {},
   "outputs": [],
   "source": [
    "def plot_molecules(mol1, mol2):\n",
    "    fig, axs = plt.subplots(\n",
    "        1, 2, figsize=(10, 5)\n",
    "    )  # Create a subplot with 1 row and 2 columns\n",
    "\n",
    "    # Draw the input molecule\n",
    "    axs[0].imshow(draw_mol(mol1))\n",
    "    axs[0].set_title(\"Input\")\n",
    "    axs[0].axis(\"off\")  # Hide axes\n",
    "\n",
    "    # Draw the output molecule\n",
    "    axs[1].imshow(draw_mol(mol2))\n",
    "    axs[1].set_title(\"Output\")\n",
    "    axs[1].axis(\"off\")  # Hide axes\n",
    "\n",
    "    return plt.show()"
   ]
  },
  {
   "cell_type": "code",
   "execution_count": 8,
   "id": "70793b20-cecf-465e-b632-72ee066ed88a",
   "metadata": {},
   "outputs": [],
   "source": [
    "def get_idxs_of_carbon_for_new_bond(mol):\n",
    "  \"\"\"Return indices of all carbon atoms available for new bond.\n",
    "\n",
    "  Technically, it returns the indices of Carbon atoms that have\n",
    "  at least one bond with hydrogen atom.\n",
    "  \"\"\"\n",
    "\n",
    "  carbon_indices = []\n",
    "\n",
    "  for atom in mol.GetAtoms():\n",
    "    if atom.GetAtomicNum() == 6:\n",
    "      bonds = atom.GetBonds()\n",
    "      num_bonds = sum([b.GetBondTypeAsDouble() for b in bonds])\n",
    "      if num_bonds < 4:\n",
    "        carbon_indices.append(atom.GetIdx())\n",
    "\n",
    "  return carbon_indices"
   ]
  },
  {
   "cell_type": "code",
   "execution_count": 9,
   "id": "6b595e7f-db47-433e-ba4c-c7576ad5ddfb",
   "metadata": {},
   "outputs": [],
   "source": [
    "def get_scaffold_and_attachment_points(mol):\n",
    "    scaffold = get_scaffold(mol)\n",
    "    \n",
    "    if Chem.MolToSmiles(scaffold) == \"\":\n",
    "        scaffold = Chem.Mol(mol)\n",
    "        \n",
    "    return (scaffold, get_idxs_of_carbon_for_new_bond(scaffold))"
   ]
  },
  {
   "cell_type": "code",
   "execution_count": 10,
   "id": "51a8b352-83db-4439-a2c6-94bf2bfa2024",
   "metadata": {},
   "outputs": [],
   "source": [
    "def get_mol_after_adding_attachment_points_at(mol, at):\n",
    "    connecting_atom = Chem.Atom(\"*\")\n",
    "    mutable_copy = Chem.RWMol(mol)\n",
    "    \n",
    "    for attachment_idx in at:\n",
    "        connection_idx = mutable_copy.AddAtom(connecting_atom)\n",
    "        mutable_copy.AddBond(attachment_idx, connection_idx, Chem.BondType.SINGLE)\n",
    "\n",
    "    \n",
    "    _mol = mutable_copy.GetMol()\n",
    "    AllChem.Compute2DCoords(_mol)\n",
    "    \n",
    "    return _mol"
   ]
  },
  {
   "cell_type": "code",
   "execution_count": 11,
   "id": "2ca52b7d-50a5-4051-8925-efacb791c2b4",
   "metadata": {},
   "outputs": [],
   "source": [
    "def attach_num_to_attachment_points(mol):\n",
    "    mol_str = get_smiles(mol)\n",
    "    smiles = \"\"\n",
    "    count = 1\n",
    "    for char in mol_str:\n",
    "        if char == \"*\":\n",
    "          smiles += f\"[*:{count}]\"\n",
    "          count += 1\n",
    "        else:\n",
    "          smiles += char\n",
    "\n",
    "    return get_mol(smiles)"
   ]
  },
  {
   "cell_type": "code",
   "execution_count": 12,
   "id": "f7f00b68-c2ec-44c9-96ab-495e4fddfaa4",
   "metadata": {},
   "outputs": [],
   "source": [
    "def get_target_num_mols_for_given_mol(attachment_points_using, total_combinations):\n",
    "    target = 1000\n",
    "    target_for_current_mol = target // total_combinations\n",
    "\n",
    "    muliplier = 1.5\n",
    "    if attachment_points_using == 2:\n",
    "        muliplier = 2   \n",
    "    if attachment_points_using == 3:\n",
    "        muliplier = 2.5\n",
    "\n",
    "    # Usually there is a lot of loss when we try to generate new molecules using libinvent\n",
    "    # Like, if we ask to generate 100 new molecules libinvent could generate around 60 or 70.\n",
    "    # And if the input molecule has more attachment point then it could generate around 40 or 30.\n",
    "    # Therefore we are asking to generate more in order to minimise the loss.\n",
    "    return math.ceil(target_for_current_mol * muliplier)"
   ]
  },
  {
   "cell_type": "code",
   "execution_count": 13,
   "id": "8b4c9cfe-a84c-4c66-ad06-301701fa4461",
   "metadata": {},
   "outputs": [],
   "source": [
    "def filter_duplicate_molecules(molecules):\n",
    "    _mols = [get_smiles(mol) for mol in molecules]\n",
    "    seen = {}\n",
    "    filtered_list = []\n",
    "\n",
    "    for m in _mols:\n",
    "        if m in seen:\n",
    "            continue\n",
    "        seen[m] = m\n",
    "        filtered_list.append(get_mol(m))\n",
    "\n",
    "    return filtered_list\n",
    "    "
   ]
  },
  {
   "cell_type": "code",
   "execution_count": 14,
   "id": "ecbd4fa2-0740-422f-91dd-28e0c71c0e3b",
   "metadata": {},
   "outputs": [],
   "source": [
    "def get_all_comb_of_mol_with_attachment_points(mol):\n",
    "    scaffold, at = get_scaffold_and_attachment_points(mol)\n",
    "    \n",
    "    combs = [combinations(at, 1), combinations(at, 2), combinations(at, 3)]\n",
    "\n",
    "    # At index 0 we have all molecules with one attachment points.\n",
    "    # At index 1 we have all molecules with two attachment points.\n",
    "    # At index 2 we have all molecules with three attachment points.\n",
    "    molecules_list = []\n",
    "    attachment_point = 0\n",
    "    \n",
    "    for comb in combs:\n",
    "        molecules_list.append([])\n",
    "        \n",
    "        for current_at in comb:\n",
    "            s = Chem.Mol(scaffold)\n",
    "            m = get_mol_after_adding_attachment_points_at(s, current_at)\n",
    "            m = attach_num_to_attachment_points(m)\n",
    "            molecules_list[attachment_point].append(m)\n",
    "            \n",
    "        attachment_point += 1\n",
    "    \n",
    "    return [filter_duplicate_molecules(molecules) for molecules in molecules_list]"
   ]
  },
  {
   "cell_type": "code",
   "execution_count": 15,
   "id": "734f6778-13ad-4da2-83ab-a8151f300a81",
   "metadata": {},
   "outputs": [],
   "source": [
    "smiles = [\n",
    "  \"c1ccccc1\",\n",
    "  \"CC(C)(C)C1=CC(O)=CC=C1O\",\n",
    "  \"CC(C)(C)c1nc(c(s1)-c1ccnc(N)n1)-c1cccc(NS(=O)(=O)c2c(F)cccc2F)c1F\",\n",
    "  \"CO\",\n",
    "  \"OC=O\",\n",
    "  \"CCOCC\",\n",
    "  \"COC1=CC23CCCN2CCC4=CC5=C(C=C4C3C1O)OCO5\", # Cephalotaxin\n",
    "  \"CC1(OC2C(OC(C2O1)(C#N)C3=CC=C4N3N=CN=C4N)CO)C\", # Remdesivir\n",
    "  \"CC(=O)OC1=CC=CC=C1C(=O)O\", # Aspirin\n",
    "  \"CC(CN1C=NC2=C(N=CN=C21)N)OCP(=O)(O)O\", #Tenofovir\n",
    "  \"C1=CN=CC=C1C(=O)NN\", # Isoniazid\n",
    "  \"CC1C2C(CC3(C=CC(=O)C(=C3C2OC1=O)C)C)O\", # Artemisin\n",
    "  \"CC(C)CC1=CC=C(C=C1)C(C)C(=O)O\", #Ibuprofen\n",
    "]\n",
    "\n",
    "molecules = [get_mol(smi) for smi in smiles]"
   ]
  },
  {
   "cell_type": "code",
   "execution_count": 30,
   "id": "2a5d764f-96ef-4f2b-b05b-2de0d9f52da5",
   "metadata": {},
   "outputs": [],
   "source": [
    "# Print\n",
    "def print_details(c, filename):\n",
    "    total = sum([len(a) for a in c])\n",
    "\n",
    "    attachment_points = 1\n",
    "    out = {}\n",
    "    \n",
    "    for molecules in c:\n",
    "        for mol in molecules:\n",
    "            s = get_smiles(mol)\n",
    "            t = get_target_num_mols_for_given_mol(attachment_points, total)\n",
    "\n",
    "            if t in out:\n",
    "                out[t].append(s)\n",
    "            else:\n",
    "                out[t] = [s]\n",
    "        attachment_points += 1\n",
    "    print(out)\n",
    "\n",
    "    with open(filename, \"w\") as fp:\n",
    "        json.dump(out, fp)"
   ]
  },
  {
   "cell_type": "code",
   "execution_count": 33,
   "id": "9e5eebfd-08bf-484c-98b6-3162a54adb3f",
   "metadata": {},
   "outputs": [
    {
     "name": "stdout",
     "output_type": "stream",
     "text": [
      "Input COC1=CC23CCCN2CCc2cc4c(cc2C3C1O)OCO4\n",
      "{5: ['C1=C([*:1])CC2c3cc4c(cc3CCN3CCCC123)OCO4', 'C1=C([*:1])C23CCCN2CCc2cc4c(cc2C3C1)OCO4', 'C1=CC23C(C1)c1cc4c(cc1CCN2CCC3[*:1])OCO4', 'C1=CC23CC([*:1])CN2CCc2cc4c(cc2C3C1)OCO4', 'C1=CC23CCC([*:1])N2CCc2cc4c(cc2C3C1)OCO4', 'C1=CC23CCCN2C([*:1])Cc2cc4c(cc2C3C1)OCO4', 'C1=CC23CCCN2CC([*:1])c2cc4c(cc2C3C1)OCO4', 'C1=CC23CCCN2CCc2c(cc4c(c2[*:1])OCO4)C3C1', 'C1=CC23CCCN2CCc2cc4c(c([*:1])c2C3C1)OCO4', 'C1=CC23CCCN2CCc2cc4c(cc2C3([*:1])C1)OCO4', 'C1=CC23CCCN2CCc2cc4c(cc2C3C1[*:1])OCO4', 'C1=CC23CCCN2CCc2cc4c(cc2C3C1)OC([*:1])O4'], 6: ['c1c2c(cc3c1OCO3)C1CC([*:1])=C([*:2])C13CCCN3CC2', 'C1=C([*:1])CC2c3cc4c(cc3CCN3CCC([*:2])C123)OCO4', 'C1=C([*:1])CC2c3cc4c(cc3CCN3CC([*:2])CC123)OCO4', 'C1=C([*:1])CC2c3cc4c(cc3CCN3C([*:2])CCC123)OCO4', 'C1=C([*:1])CC2c3cc4c(cc3CC([*:2])N3CCCC123)OCO4', 'C1=C([*:1])CC2c3cc4c(cc3C([*:2])CN3CCCC123)OCO4', 'C1=C([*:1])CC2c3cc4c(c([*:2])c3CCN3CCCC123)OCO4', 'C1=C([*:1])CC2c3c(cc4c(c3[*:2])OCO4)CCN3CCCC123', 'C1=C([*:1])CC2([*:2])c3cc4c(cc3CCN3CCCC132)OCO4', 'C1=C([*:1])C([*:2])C2c3cc4c(cc3CCN3CCCC123)OCO4', 'C1=C([*:1])CC2c3cc4c(cc3CCN3CCCC123)OC([*:2])O4', 'C1=C([*:1])C23C(C1)c1cc4c(cc1CCN2CCC3[*:2])OCO4', 'C1=C([*:1])C23CC([*:2])CN2CCc2cc4c(cc2C3C1)OCO4', 'C1=C([*:1])C23CCC([*:2])N2CCc2cc4c(cc2C3C1)OCO4', 'C1=C([*:1])C23CCCN2C([*:2])Cc2cc4c(cc2C3C1)OCO4', 'C1=C([*:1])C23CCCN2CC([*:2])c2cc4c(cc2C3C1)OCO4', 'C1=C([*:1])C23CCCN2CCc2c(cc4c(c2[*:2])OCO4)C3C1', 'C1=C([*:1])C23CCCN2CCc2cc4c(c([*:2])c2C3C1)OCO4', 'C1=C([*:1])C23CCCN2CCc2cc4c(cc2C3([*:2])C1)OCO4', 'C1=C([*:1])C23CCCN2CCc2cc4c(cc2C3C1[*:2])OCO4', 'C1=C([*:1])C23CCCN2CCc2cc4c(cc2C3C1)OC([*:2])O4', 'C1=CC23C(C1)c1cc4c(cc1CCN2CC([*:1])C3[*:2])OCO4', 'C1=CC23C(C1)c1cc4c(cc1CCN2C([*:1])CC3[*:2])OCO4', 'C1=CC23C(C1)c1cc4c(cc1CC([*:1])N2CCC3[*:2])OCO4', 'C1=CC23C(C1)c1cc4c(cc1C([*:1])CN2CCC3[*:2])OCO4', 'C1=CC23C(C1)c1cc4c(c([*:1])c1CCN2CCC3[*:2])OCO4', 'C1=CC23C(C1)c1c(cc4c(c1[*:1])OCO4)CCN2CCC3[*:2]', 'C1=CC23C([*:1])CCN2CCc2cc4c(cc2C3([*:2])C1)OCO4', 'C1=CC23C(c4cc5c(cc4CCN2CCC3[*:2])OCO5)C1[*:1]', 'C1=CC23C(C1)c1cc4c(cc1CCN2CCC3[*:2])OC([*:1])O4', 'C1=CC23CC([*:1])C([*:2])N2CCc2cc4c(cc2C3C1)OCO4', 'C1=CC23CC([*:1])CN2C([*:2])Cc2cc4c(cc2C3C1)OCO4', 'C1=CC23CC([*:1])CN2CC([*:2])c2cc4c(cc2C3C1)OCO4', 'C1=CC23CC([*:2])CN2CCc2c(cc4c(c2[*:1])OCO4)C3C1', 'C1=CC23CC([*:2])CN2CCc2cc4c(c([*:1])c2C3C1)OCO4', 'C1=CC23CC([*:1])CN2CCc2cc4c(cc2C3([*:2])C1)OCO4', 'C1=CC23CC([*:1])CN2CCc2cc4c(cc2C3C1[*:2])OCO4', 'C1=CC23CC([*:1])CN2CCc2cc4c(cc2C3C1)OC([*:2])O4', 'C1=CC23CCC([*:1])N2C([*:2])Cc2cc4c(cc2C3C1)OCO4', 'C1=CC23CCC([*:2])N2CC([*:1])c2cc4c(cc2C3C1)OCO4', 'C1=CC23CCC([*:2])N2CCc2c(cc4c(c2[*:1])OCO4)C3C1', 'C1=CC23CCC([*:2])N2CCc2cc4c(c([*:1])c2C3C1)OCO4', 'C1=CC23CCC([*:1])N2CCc2cc4c(cc2C3([*:2])C1)OCO4', 'C1=CC23CCC([*:2])N2CCc2cc4c(cc2C3C1[*:1])OCO4', 'C1=CC23CCC([*:2])N2CCc2cc4c(cc2C3C1)OC([*:1])O4', 'C1=CC23CCCN2C([*:2])C([*:1])c2cc4c(cc2C3C1)OCO4', 'C1=CC23CCCN2C([*:2])Cc2c(cc4c(c2[*:1])OCO4)C3C1', 'C1=CC23CCCN2C([*:2])Cc2cc4c(c([*:1])c2C3C1)OCO4', 'C1=CC23CCCN2C([*:1])Cc2cc4c(cc2C3([*:2])C1)OCO4', 'C1=CC23CCCN2C([*:2])Cc2cc4c(cc2C3C1[*:1])OCO4', 'C1=CC23CCCN2C([*:2])Cc2cc4c(cc2C3C1)OC([*:1])O4', 'C1=CC23CCCN2CC([*:2])c2c(cc4c(c2[*:1])OCO4)C3C1', 'C1=CC23CCCN2CC([*:2])c2cc4c(c([*:1])c2C3C1)OCO4', 'C1=CC23CCCN2CC([*:1])c2cc4c(cc2C3([*:2])C1)OCO4', 'C1=CC23CCCN2CC([*:1])c2cc4c(cc2C3C1[*:2])OCO4', 'C1=CC23CCCN2CC([*:2])c2cc4c(cc2C3C1)OC([*:1])O4', 'C1=CC23CCCN2CCc2c(c([*:2])c4c(c2[*:1])OCO4)C3C1', 'C1=CC23CCCN2CCc2c(cc4c(c2[*:1])OCO4)C3([*:2])C1', 'C1=CC23CCCN2CCc2c(cc4c(c2[*:1])OCO4)C3C1[*:2]', 'C1=CC23CCCN2CCc2c(cc4c(c2[*:1])OC([*:2])O4)C3C1', 'C1=CC23CCCN2CCc2cc4c(c([*:1])c2C3([*:2])C1)OCO4', 'C1=CC23CCCN2CCc2cc4c(c([*:1])c2C3C1[*:2])OCO4', 'C1=CC23CCCN2CCc2cc4c(c([*:1])c2C3C1)OC([*:2])O4', 'C1=CC23CCCN2CCc2cc4c(cc2C3([*:2])C1[*:1])OCO4', 'C1=CC23CCCN2CCc2cc4c(cc2C3([*:2])C1)OC([*:1])O4', 'C1=CC23CCCN2CCc2cc4c(cc2C3C1[*:2])OC([*:1])O4'], 8: ['c1c2c(cc3c1OCO3)C1CC([*:1])=C([*:2])C13C([*:3])CCN3CC2', 'c1c2c(cc3c1OCO3)C1CC([*:1])=C([*:2])C13CC([*:3])CN3CC2', 'c1c2c(cc3c1OCO3)C1CC([*:1])=C([*:2])C13CCC([*:3])N3CC2', 'c1c2c(cc3c1OCO3)C1CC([*:1])=C([*:2])C13CCCN3C([*:3])C2', 'c1c2c(cc3c1C1CC([*:1])=C([*:2])C14CCCN4CC3[*:3])OCO2', 'c1c2c(c([*:3])c3c1C1CC([*:1])=C([*:2])C14CCCN4CC3)OCO2', 'c1c2c(c([*:3])c3c1OCO3)C1CC([*:1])=C([*:2])C13CCCN3CC2', 'c1c2c(cc3c1OCO3)C1([*:3])CC([*:1])=C([*:2])C13CCCN3CC2', 'c1c2c(cc3c1OCO3)C1C([*:3])C([*:1])=C([*:2])C13CCCN3CC2', 'c1c2c(cc3c1OC([*:3])O3)C1CC([*:1])=C([*:2])C13CCCN3CC2', 'C1=C([*:1])CC2c3cc4c(cc3CCN3CC([*:2])C([*:3])C123)OCO4', 'C1=C([*:1])CC2c3cc4c(cc3CCN3C([*:3])CC([*:2])C123)OCO4', 'C1=C([*:1])CC2c3cc4c(cc3CC([*:3])N3CCC([*:2])C123)OCO4', 'C1=C([*:1])CC2c3cc4c(cc3C([*:3])CN3CCC([*:2])C123)OCO4', 'C1=C([*:1])CC2c3cc4c(c([*:3])c3CCN3CCC([*:2])C123)OCO4', 'C1=C([*:1])CC2c3c(cc4c(c3[*:3])OCO4)CCN3CCC([*:2])C123', 'C1=C([*:1])CC2([*:3])c3cc4c(cc3CCN3CCC([*:2])C132)OCO4', 'C1=C([*:1])C([*:3])C2c3cc4c(cc3CCN3CCC([*:2])C123)OCO4', 'C1=C([*:1])CC2c3cc4c(cc3CCN3CCC([*:2])C123)OC([*:3])O4', 'C1=C([*:1])CC2c3cc4c(cc3CCN3C([*:3])C([*:2])CC123)OCO4', 'C1=C([*:1])CC2c3cc4c(cc3CC([*:3])N3CC([*:2])CC123)OCO4', 'C1=C([*:1])CC2c3cc4c(cc3C([*:3])CN3CC([*:2])CC123)OCO4', 'C1=C([*:1])CC2c3cc4c(c([*:3])c3CCN3CC([*:2])CC123)OCO4', 'C1=C([*:1])CC2c3c(cc4c(c3[*:3])OCO4)CCN3CC([*:2])CC123', 'C1=C([*:1])CC2([*:3])c3cc4c(cc3CCN3CC([*:2])CC132)OCO4', 'C1=C([*:1])C([*:3])C2c3cc4c(cc3CCN3CC([*:2])CC123)OCO4', 'C1=C([*:1])CC2c3cc4c(cc3CCN3CC([*:2])CC123)OC([*:3])O4', 'C1=C([*:1])CC2c3cc4c(cc3CC([*:3])N3C([*:2])CCC123)OCO4', 'C1=C([*:1])CC2c3cc4c(cc3C([*:3])CN3C([*:2])CCC123)OCO4', 'C1=C([*:1])CC2c3cc4c(c([*:3])c3CCN3C([*:2])CCC123)OCO4', 'C1=C([*:1])CC2c3c(cc4c(c3[*:3])OCO4)CCN3C([*:2])CCC123', 'C1=C([*:1])CC2([*:3])c3cc4c(cc3CCN3C([*:2])CCC132)OCO4', 'C1=C([*:1])C([*:3])C2c3cc4c(cc3CCN3C([*:2])CCC123)OCO4', 'C1=C([*:1])CC2c3cc4c(cc3CCN3C([*:2])CCC123)OC([*:3])O4', 'C1=C([*:1])CC2c3cc4c(cc3C([*:3])C([*:2])N3CCCC123)OCO4', 'C1=C([*:1])CC2c3cc4c(c([*:3])c3CC([*:2])N3CCCC123)OCO4', 'C1=C([*:1])CC2c3c(cc4c(c3[*:3])OCO4)CC([*:2])N3CCCC123', 'C1=C([*:1])CC2([*:3])c3cc4c(cc3CC([*:2])N3CCCC132)OCO4', 'C1=C([*:1])C([*:3])C2c3cc4c(cc3CC([*:2])N3CCCC123)OCO4', 'C1=C([*:1])CC2c3cc4c(cc3CC([*:2])N3CCCC123)OC([*:3])O4', 'C1=C([*:1])CC2c3cc4c(c([*:3])c3C([*:2])CN3CCCC123)OCO4', 'C1=C([*:1])CC2c3c(cc4c(c3[*:3])OCO4)C([*:2])CN3CCCC123', 'C1=C([*:1])CC2([*:3])c3cc4c(cc3C([*:2])CN3CCCC132)OCO4', 'C1=C([*:1])C([*:3])C2c3cc4c(cc3C([*:2])CN3CCCC123)OCO4', 'C1=C([*:1])CC2c3cc4c(cc3C([*:2])CN3CCCC123)OC([*:3])O4', 'C1=C([*:1])CC2c3c(c([*:2])c4c(c3[*:3])OCO4)CCN3CCCC123', 'C1=C([*:1])CC2([*:3])c3cc4c(c([*:2])c3CCN3CCCC132)OCO4', 'C1=C([*:1])C([*:3])C2c3cc4c(c([*:2])c3CCN3CCCC123)OCO4', 'C1=C([*:1])CC2c3cc4c(c([*:2])c3CCN3CCCC123)OC([*:3])O4', 'C1=C([*:1])CC2([*:3])c3c(cc4c(c3[*:2])OCO4)CCN3CCCC132', 'C1=C([*:1])C([*:3])C2c3c(cc4c(c3[*:2])OCO4)CCN3CCCC123', 'C1=C([*:1])CC2c3c(cc4c(c3[*:2])OC([*:3])O4)CCN3CCCC123', 'C1=C([*:1])C([*:3])C2([*:2])c3cc4c(cc3CCN3CCCC132)OCO4', 'C1=C([*:1])CC2([*:2])c3cc4c(cc3CCN3CCCC132)OC([*:3])O4', 'C1=C([*:1])C([*:2])C2c3cc4c(cc3CCN3CCCC123)OC([*:3])O4', 'C1=C([*:1])C23C(C1)c1cc4c(cc1CCN2CC([*:2])C3[*:3])OCO4', 'C1=C([*:1])C23C(C1)c1cc4c(cc1CCN2C([*:2])CC3[*:3])OCO4', 'C1=C([*:1])C23C(C1)c1cc4c(cc1CC([*:2])N2CCC3[*:3])OCO4', 'C1=C([*:1])C23C(C1)c1cc4c(cc1C([*:2])CN2CCC3[*:3])OCO4', 'C1=C([*:1])C23C(C1)c1cc4c(c([*:2])c1CCN2CCC3[*:3])OCO4', 'C1=C([*:1])C23C(C1)c1c(cc4c(c1[*:2])OCO4)CCN2CCC3[*:3]', 'C1=C([*:1])C23C([*:3])CCN2CCc2cc4c(cc2C3([*:2])C1)OCO4', 'C1=C([*:1])C23C(c4cc5c(cc4CCN2CCC3[*:3])OCO5)C1[*:2]', 'C1=C([*:1])C23C(C1)c1cc4c(cc1CCN2CCC3[*:2])OC([*:3])O4', 'C1=C([*:1])C23CC([*:3])C([*:2])N2CCc2cc4c(cc2C3C1)OCO4', 'C1=C([*:1])C23CC([*:3])CN2C([*:2])Cc2cc4c(cc2C3C1)OCO4', 'C1=C([*:1])C23CC([*:3])CN2CC([*:2])c2cc4c(cc2C3C1)OCO4', 'C1=C([*:1])C23CC([*:3])CN2CCc2c(cc4c(c2[*:2])OCO4)C3C1', 'C1=C([*:1])C23CC([*:3])CN2CCc2cc4c(c([*:2])c2C3C1)OCO4', 'C1=C([*:1])C23CC([*:3])CN2CCc2cc4c(cc2C3([*:2])C1)OCO4', 'C1=C([*:1])C23CC([*:3])CN2CCc2cc4c(cc2C3C1[*:2])OCO4', 'C1=C([*:1])C23CC([*:2])CN2CCc2cc4c(cc2C3C1)OC([*:3])O4', 'C1=C([*:1])C23CCC([*:3])N2C([*:2])Cc2cc4c(cc2C3C1)OCO4', 'C1=C([*:1])C23CCC([*:3])N2CC([*:2])c2cc4c(cc2C3C1)OCO4', 'C1=C([*:1])C23CCC([*:3])N2CCc2c(cc4c(c2[*:2])OCO4)C3C1', 'C1=C([*:1])C23CCC([*:3])N2CCc2cc4c(c([*:2])c2C3C1)OCO4', 'C1=C([*:1])C23CCC([*:3])N2CCc2cc4c(cc2C3([*:2])C1)OCO4', 'C1=C([*:1])C23CCC([*:3])N2CCc2cc4c(cc2C3C1[*:2])OCO4', 'C1=C([*:1])C23CCC([*:2])N2CCc2cc4c(cc2C3C1)OC([*:3])O4', 'C1=C([*:1])C23CCCN2C([*:3])C([*:2])c2cc4c(cc2C3C1)OCO4', 'C1=C([*:1])C23CCCN2C([*:3])Cc2c(cc4c(c2[*:2])OCO4)C3C1', 'C1=C([*:1])C23CCCN2C([*:3])Cc2cc4c(c([*:2])c2C3C1)OCO4', 'C1=C([*:1])C23CCCN2C([*:3])Cc2cc4c(cc2C3([*:2])C1)OCO4', 'C1=C([*:1])C23CCCN2C([*:3])Cc2cc4c(cc2C3C1[*:2])OCO4', 'C1=C([*:1])C23CCCN2C([*:2])Cc2cc4c(cc2C3C1)OC([*:3])O4', 'C1=C([*:1])C23CCCN2CC([*:3])c2c(cc4c(c2[*:2])OCO4)C3C1', 'C1=C([*:1])C23CCCN2CC([*:3])c2cc4c(c([*:2])c2C3C1)OCO4', 'C1=C([*:1])C23CCCN2CC([*:3])c2cc4c(cc2C3([*:2])C1)OCO4', 'C1=C([*:1])C23CCCN2CC([*:3])c2cc4c(cc2C3C1[*:2])OCO4', 'C1=C([*:1])C23CCCN2CC([*:2])c2cc4c(cc2C3C1)OC([*:3])O4', 'C1=C([*:1])C23CCCN2CCc2c(c([*:2])c4c(c2[*:3])OCO4)C3C1', 'C1=C([*:1])C23CCCN2CCc2c(cc4c(c2[*:3])OCO4)C3([*:2])C1', 'C1=C([*:1])C23CCCN2CCc2c(cc4c(c2[*:3])OCO4)C3C1[*:2]', 'C1=C([*:1])C23CCCN2CCc2c(cc4c(c2[*:2])OC([*:3])O4)C3C1', 'C1=C([*:1])C23CCCN2CCc2cc4c(c([*:3])c2C3([*:2])C1)OCO4', 'C1=C([*:1])C23CCCN2CCc2cc4c(c([*:3])c2C3C1[*:2])OCO4', 'C1=C([*:1])C23CCCN2CCc2cc4c(c([*:2])c2C3C1)OC([*:3])O4', 'C1=C([*:1])C23CCCN2CCc2cc4c(cc2C3([*:3])C1[*:2])OCO4', 'C1=C([*:1])C23CCCN2CCc2cc4c(cc2C3([*:2])C1)OC([*:3])O4', 'C1=C([*:1])C23CCCN2CCc2cc4c(cc2C3C1[*:2])OC([*:3])O4', 'C1=CC23C(C1)c1cc4c(cc1CCN2C([*:2])C([*:1])C3[*:3])OCO4', 'C1=CC23C(C1)c1cc4c(cc1CC([*:2])N2CC([*:1])C3[*:3])OCO4', 'C1=CC23C(C1)c1cc4c(cc1C([*:1])CN2CC([*:2])C3[*:3])OCO4', 'C1=CC23C(C1)c1cc4c(c([*:1])c1CCN2CC([*:3])C3[*:2])OCO4', 'C1=CC23C(C1)c1c(cc4c(c1[*:1])OCO4)CCN2CC([*:3])C3[*:2]', 'C1=CC23C([*:3])C([*:1])CN2CCc2cc4c(cc2C3([*:2])C1)OCO4', 'C1=CC23C(c4cc5c(cc4CCN2CC([*:3])C3[*:2])OCO5)C1[*:1]', 'C1=CC23C(C1)c1cc4c(cc1CCN2CC([*:3])C3[*:2])OC([*:1])O4', 'C1=CC23C(C1)c1cc4c(cc1CC([*:1])N2C([*:3])CC3[*:2])OCO4', 'C1=CC23C(C1)c1cc4c(cc1C([*:1])CN2C([*:2])CC3[*:3])OCO4', 'C1=CC23C(C1)c1cc4c(c([*:1])c1CCN2C([*:3])CC3[*:2])OCO4', 'C1=CC23C(C1)c1c(cc4c(c1[*:1])OCO4)CCN2C([*:3])CC3[*:2]', 'C1=CC23C([*:2])CC([*:1])N2CCc2cc4c(cc2C3([*:3])C1)OCO4', 'C1=CC23C(c4cc5c(cc4CCN2C([*:3])CC3[*:2])OCO5)C1[*:1]', 'C1=CC23C(C1)c1cc4c(cc1CCN2C([*:3])CC3[*:2])OC([*:1])O4', 'C1=CC23C(C1)c1cc4c(cc1C([*:1])C([*:3])N2CCC3[*:2])OCO4', 'C1=CC23C(C1)c1cc4c(c([*:1])c1CC([*:3])N2CCC3[*:2])OCO4', 'C1=CC23C(C1)c1c(cc4c(c1[*:1])OCO4)CC([*:3])N2CCC3[*:2]', 'C1=CC23C([*:3])CCN2C([*:1])Cc2cc4c(cc2C3([*:2])C1)OCO4', 'C1=CC23C(c4cc5c(cc4CC([*:3])N2CCC3[*:2])OCO5)C1[*:1]', 'C1=CC23C(C1)c1cc4c(cc1CC([*:3])N2CCC3[*:2])OC([*:1])O4', 'C1=CC23C(C1)c1cc4c(c([*:1])c1C([*:2])CN2CCC3[*:3])OCO4', 'C1=CC23C(C1)c1c(cc4c(c1[*:1])OCO4)C([*:3])CN2CCC3[*:2]', 'C1=CC23C([*:2])CCN2CC([*:1])c2cc4c(cc2C3([*:3])C1)OCO4', 'C1=CC23C(c4cc5c(cc4C([*:1])CN2CCC3[*:2])OCO5)C1[*:3]', 'C1=CC23C(C1)c1cc4c(cc1C([*:3])CN2CCC3[*:2])OC([*:1])O4', 'C1=CC23C(C1)c1c(c([*:1])c4c(c1[*:2])OCO4)CCN2CCC3[*:3]', 'C1=CC23C([*:3])CCN2CCc2c(cc4c(c2[*:1])OCO4)C3([*:2])C1', 'C1=CC23C(c4cc5c(c([*:1])c4CCN2CCC3[*:3])OCO5)C1[*:2]', 'C1=CC23C(C1)c1cc4c(c([*:1])c1CCN2CCC3[*:3])OC([*:2])O4', 'C1=CC23C([*:3])CCN2CCc2cc4c(c([*:1])c2C3([*:2])C1)OCO4', 'C1=CC23C(c4c(cc5c(c4[*:1])OCO5)CCN2CCC3[*:3])C1[*:2]', 'C1=CC23C(C1)c1c(cc4c(c1[*:1])OC([*:3])O4)CCN2CCC3[*:2]', 'C1=CC23C([*:2])CCN2CCc2cc4c(cc2C3([*:3])C1[*:1])OCO4', 'C1=CC23C([*:3])CCN2CCc2cc4c(cc2C3([*:2])C1)OC([*:1])O4', 'C1=CC23C(c4cc5c(cc4CCN2CCC3[*:3])OC([*:1])O5)C1[*:2]', 'C1=CC23CC([*:1])C([*:3])N2C([*:2])Cc2cc4c(cc2C3C1)OCO4', 'C1=CC23CC([*:3])C([*:2])N2CC([*:1])c2cc4c(cc2C3C1)OCO4', 'C1=CC23CC([*:2])C([*:3])N2CCc2c(cc4c(c2[*:1])OCO4)C3C1', 'C1=CC23CC([*:2])C([*:3])N2CCc2cc4c(c([*:1])c2C3C1)OCO4', 'C1=CC23CC([*:1])C([*:3])N2CCc2cc4c(cc2C3([*:2])C1)OCO4', 'C1=CC23CC([*:2])C([*:3])N2CCc2cc4c(cc2C3C1[*:1])OCO4', 'C1=CC23CC([*:2])C([*:3])N2CCc2cc4c(cc2C3C1)OC([*:1])O4', 'C1=CC23CC([*:1])CN2C([*:2])C([*:3])c2cc4c(cc2C3C1)OCO4', 'C1=CC23CC([*:2])CN2C([*:3])Cc2c(cc4c(c2[*:1])OCO4)C3C1', 'C1=CC23CC([*:2])CN2C([*:3])Cc2cc4c(c([*:1])c2C3C1)OCO4', 'C1=CC23CC([*:1])CN2C([*:2])Cc2cc4c(cc2C3([*:3])C1)OCO4', 'C1=CC23CC([*:1])CN2C([*:2])Cc2cc4c(cc2C3C1[*:3])OCO4', 'C1=CC23CC([*:1])CN2C([*:2])Cc2cc4c(cc2C3C1)OC([*:3])O4', 'C1=CC23CC([*:3])CN2CC([*:2])c2c(cc4c(c2[*:1])OCO4)C3C1', 'C1=CC23CC([*:2])CN2CC([*:3])c2cc4c(c([*:1])c2C3C1)OCO4', 'C1=CC23CC([*:1])CN2CC([*:2])c2cc4c(cc2C3([*:3])C1)OCO4', 'C1=CC23CC([*:1])CN2CC([*:2])c2cc4c(cc2C3C1[*:3])OCO4', 'C1=CC23CC([*:1])CN2CC([*:2])c2cc4c(cc2C3C1)OC([*:3])O4', 'C1=CC23CC([*:3])CN2CCc2c(c([*:2])c4c(c2[*:1])OCO4)C3C1', 'C1=CC23CC([*:3])CN2CCc2c(cc4c(c2[*:1])OCO4)C3([*:2])C1', 'C1=CC23CC([*:3])CN2CCc2c(cc4c(c2[*:1])OCO4)C3C1[*:2]', 'C1=CC23CC([*:3])CN2CCc2c(cc4c(c2[*:1])OC([*:2])O4)C3C1', 'C1=CC23CC([*:3])CN2CCc2cc4c(c([*:1])c2C3([*:2])C1)OCO4', 'C1=CC23CC([*:3])CN2CCc2cc4c(c([*:1])c2C3C1[*:2])OCO4', 'C1=CC23CC([*:2])CN2CCc2cc4c(c([*:1])c2C3C1)OC([*:3])O4', 'C1=CC23CC([*:1])CN2CCc2cc4c(cc2C3([*:2])C1[*:3])OCO4', 'C1=CC23CC([*:1])CN2CCc2cc4c(cc2C3([*:2])C1)OC([*:3])O4', 'C1=CC23CC([*:1])CN2CCc2cc4c(cc2C3C1[*:2])OC([*:3])O4', 'C1=CC23CCC([*:2])N2C([*:3])C([*:1])c2cc4c(cc2C3C1)OCO4', 'C1=CC23CCC([*:2])N2C([*:3])Cc2c(cc4c(c2[*:1])OCO4)C3C1', 'C1=CC23CCC([*:2])N2C([*:3])Cc2cc4c(c([*:1])c2C3C1)OCO4', 'C1=CC23CCC([*:1])N2C([*:3])Cc2cc4c(cc2C3([*:2])C1)OCO4', 'C1=CC23CCC([*:2])N2C([*:3])Cc2cc4c(cc2C3C1[*:1])OCO4', 'C1=CC23CCC([*:2])N2C([*:3])Cc2cc4c(cc2C3C1)OC([*:1])O4', 'C1=CC23CCC([*:3])N2CC([*:2])c2c(cc4c(c2[*:1])OCO4)C3C1', 'C1=CC23CCC([*:2])N2CC([*:3])c2cc4c(c([*:1])c2C3C1)OCO4', 'C1=CC23CCC([*:2])N2CC([*:1])c2cc4c(cc2C3([*:3])C1)OCO4', 'C1=CC23CCC([*:2])N2CC([*:1])c2cc4c(cc2C3C1[*:3])OCO4', 'C1=CC23CCC([*:2])N2CC([*:3])c2cc4c(cc2C3C1)OC([*:1])O4', 'C1=CC23CCC([*:3])N2CCc2c(c([*:2])c4c(c2[*:1])OCO4)C3C1', 'C1=CC23CCC([*:3])N2CCc2c(cc4c(c2[*:1])OCO4)C3([*:2])C1', 'C1=CC23CCC([*:3])N2CCc2c(cc4c(c2[*:1])OCO4)C3C1[*:2]', 'C1=CC23CCC([*:3])N2CCc2c(cc4c(c2[*:1])OC([*:2])O4)C3C1', 'C1=CC23CCC([*:3])N2CCc2cc4c(c([*:1])c2C3([*:2])C1)OCO4', 'C1=CC23CCC([*:3])N2CCc2cc4c(c([*:1])c2C3C1[*:2])OCO4', 'C1=CC23CCC([*:2])N2CCc2cc4c(c([*:1])c2C3C1)OC([*:3])O4', 'C1=CC23CCC([*:1])N2CCc2cc4c(cc2C3([*:3])C1[*:2])OCO4', 'C1=CC23CCC([*:3])N2CCc2cc4c(cc2C3([*:2])C1)OC([*:1])O4', 'C1=CC23CCC([*:3])N2CCc2cc4c(cc2C3C1[*:2])OC([*:1])O4', 'C1=CC23CCCN2C([*:3])C([*:2])c2c(cc4c(c2[*:1])OCO4)C3C1', 'C1=CC23CCCN2C([*:2])C([*:3])c2cc4c(c([*:1])c2C3C1)OCO4', 'C1=CC23CCCN2C([*:3])C([*:1])c2cc4c(cc2C3([*:2])C1)OCO4', 'C1=CC23CCCN2C([*:2])C([*:3])c2cc4c(cc2C3C1[*:1])OCO4', 'C1=CC23CCCN2C([*:2])C([*:3])c2cc4c(cc2C3C1)OC([*:1])O4', 'C1=CC23CCCN2C([*:3])Cc2c(c([*:2])c4c(c2[*:1])OCO4)C3C1', 'C1=CC23CCCN2C([*:3])Cc2c(cc4c(c2[*:1])OCO4)C3([*:2])C1', 'C1=CC23CCCN2C([*:3])Cc2c(cc4c(c2[*:1])OCO4)C3C1[*:2]', 'C1=CC23CCCN2C([*:3])Cc2c(cc4c(c2[*:1])OC([*:2])O4)C3C1', 'C1=CC23CCCN2C([*:3])Cc2cc4c(c([*:1])c2C3([*:2])C1)OCO4', 'C1=CC23CCCN2C([*:3])Cc2cc4c(c([*:1])c2C3C1[*:2])OCO4', 'C1=CC23CCCN2C([*:2])Cc2cc4c(c([*:1])c2C3C1)OC([*:3])O4', 'C1=CC23CCCN2C([*:1])Cc2cc4c(cc2C3([*:2])C1[*:3])OCO4', 'C1=CC23CCCN2C([*:3])Cc2cc4c(cc2C3([*:2])C1)OC([*:1])O4', 'C1=CC23CCCN2C([*:3])Cc2cc4c(cc2C3C1[*:2])OC([*:1])O4', 'C1=CC23CCCN2CC([*:3])c2c(c([*:2])c4c(c2[*:1])OCO4)C3C1', 'C1=CC23CCCN2CC([*:2])c2c(cc4c(c2[*:1])OCO4)C3([*:3])C1', 'C1=CC23CCCN2CC([*:2])c2c(cc4c(c2[*:1])OCO4)C3C1[*:3]', 'C1=CC23CCCN2CC([*:2])c2c(cc4c(c2[*:1])OC([*:3])O4)C3C1', 'C1=CC23CCCN2CC([*:3])c2cc4c(c([*:1])c2C3([*:2])C1)OCO4', 'C1=CC23CCCN2CC([*:3])c2cc4c(c([*:1])c2C3C1[*:2])OCO4', 'C1=CC23CCCN2CC([*:2])c2cc4c(c([*:1])c2C3C1)OC([*:3])O4', 'C1=CC23CCCN2CC([*:1])c2cc4c(cc2C3([*:3])C1[*:2])OCO4', 'C1=CC23CCCN2CC([*:3])c2cc4c(cc2C3([*:2])C1)OC([*:1])O4', 'C1=CC23CCCN2CC([*:3])c2cc4c(cc2C3C1[*:2])OC([*:1])O4', 'C1=CC23CCCN2CCc2c(c([*:2])c4c(c2[*:1])OCO4)C3([*:3])C1', 'C1=CC23CCCN2CCc2c(c([*:2])c4c(c2[*:1])OCO4)C3C1[*:3]', 'C1=CC23CCCN2CCc2c(c([*:2])c4c(c2[*:1])OC([*:3])O4)C3C1', 'C1=CC23CCCN2CCc2c(cc4c(c2[*:1])OCO4)C3([*:2])C1[*:3]', 'C1=CC23CCCN2CCc2c(cc4c(c2[*:1])OC([*:2])O4)C3([*:3])C1', 'C1=CC23CCCN2CCc2c(cc4c(c2[*:1])OC([*:2])O4)C3C1[*:3]', 'C1=CC23CCCN2CCc2cc4c(c([*:1])c2C3([*:2])C1[*:3])OCO4', 'C1=CC23CCCN2CCc2cc4c(c([*:1])c2C3([*:2])C1)OC([*:3])O4', 'C1=CC23CCCN2CCc2cc4c(c([*:1])c2C3C1[*:2])OC([*:3])O4', 'C1=CC23CCCN2CCc2cc4c(cc2C3([*:2])C1[*:3])OC([*:1])O4']}\n",
      "-------------------------------------------------------------------------------------------\n",
      "-------------------------------------------------------------------------------------------\n"
     ]
    }
   ],
   "source": [
    "for mol in molecules[6:7]:\n",
    "    print(\"Input\", get_smiles(mol))\n",
    "    c = get_all_comb_of_mol_with_attachment_points(mol)\n",
    "    print_details(c, \"benzene.json\")\n",
    "    print(\"-------------------------------------------------------------------------------------------\")\n",
    "    print(\"-------------------------------------------------------------------------------------------\")\n",
    "    \n",
    "    "
   ]
  },
  {
   "cell_type": "code",
   "execution_count": null,
   "id": "5b5341cc-2ebd-4efe-996c-d6c5666e925c",
   "metadata": {},
   "outputs": [],
   "source": []
  }
 ],
 "metadata": {
  "kernelspec": {
   "display_name": "Python 3 (ipykernel)",
   "language": "python",
   "name": "python3"
  },
  "language_info": {
   "codemirror_mode": {
    "name": "ipython",
    "version": 3
   },
   "file_extension": ".py",
   "mimetype": "text/x-python",
   "name": "python",
   "nbconvert_exporter": "python",
   "pygments_lexer": "ipython3",
   "version": "3.10.13"
  }
 },
 "nbformat": 4,
 "nbformat_minor": 5
}
